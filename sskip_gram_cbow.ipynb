{
  "nbformat": 4,
  "nbformat_minor": 0,
  "metadata": {
    "colab": {
      "provenance": []
    },
    "kernelspec": {
      "name": "python3",
      "display_name": "Python 3"
    },
    "language_info": {
      "name": "python"
    }
  },
  "cells": [
    {
      "cell_type": "code",
      "source": [
        "!pip install gensim\n"
      ],
      "metadata": {
        "colab": {
          "base_uri": "https://localhost:8080/"
        },
        "id": "Q3kjLzrxTK7y",
        "outputId": "2e03f9a2-3f2e-4075-df1c-d523a8902818"
      },
      "execution_count": 1,
      "outputs": [
        {
          "output_type": "stream",
          "name": "stdout",
          "text": [
            "Requirement already satisfied: gensim in /usr/local/lib/python3.11/dist-packages (4.3.3)\n",
            "Requirement already satisfied: numpy<2.0,>=1.18.5 in /usr/local/lib/python3.11/dist-packages (from gensim) (1.26.4)\n",
            "Requirement already satisfied: scipy<1.14.0,>=1.7.0 in /usr/local/lib/python3.11/dist-packages (from gensim) (1.13.1)\n",
            "Requirement already satisfied: smart-open>=1.8.1 in /usr/local/lib/python3.11/dist-packages (from gensim) (7.1.0)\n",
            "Requirement already satisfied: wrapt in /usr/local/lib/python3.11/dist-packages (from smart-open>=1.8.1->gensim) (1.17.2)\n"
          ]
        }
      ]
    },
    {
      "cell_type": "code",
      "execution_count": 2,
      "metadata": {
        "id": "CfF_tYFlRFfQ"
      },
      "outputs": [],
      "source": [
        "from gensim.models import KeyedVectors\n",
        "import gensim.downloader as api\n",
        "import numpy as np"
      ]
    },
    {
      "cell_type": "code",
      "source": [
        "print(api.info()['models'].keys())"
      ],
      "metadata": {
        "colab": {
          "base_uri": "https://localhost:8080/"
        },
        "id": "bQPihJFmXUAG",
        "outputId": "63fd9ed5-afb6-454d-b1a8-2db650430e24"
      },
      "execution_count": 3,
      "outputs": [
        {
          "output_type": "stream",
          "name": "stdout",
          "text": [
            "dict_keys(['fasttext-wiki-news-subwords-300', 'conceptnet-numberbatch-17-06-300', 'word2vec-ruscorpora-300', 'word2vec-google-news-300', 'glove-wiki-gigaword-50', 'glove-wiki-gigaword-100', 'glove-wiki-gigaword-200', 'glove-wiki-gigaword-300', 'glove-twitter-25', 'glove-twitter-50', 'glove-twitter-100', 'glove-twitter-200', '__testing_word2vec-matrix-synopsis'])\n"
          ]
        }
      ]
    },
    {
      "cell_type": "code",
      "source": [
        "model = api.load('glove-wiki-gigaword-100')"
      ],
      "metadata": {
        "colab": {
          "base_uri": "https://localhost:8080/"
        },
        "collapsed": true,
        "id": "C8e2_xPxTKAA",
        "outputId": "f5692143-533b-4ea8-a54c-f5e87b237f2b"
      },
      "execution_count": 4,
      "outputs": [
        {
          "output_type": "stream",
          "name": "stdout",
          "text": [
            "[==================================================] 100.0% 128.1/128.1MB downloaded\n"
          ]
        }
      ]
    },
    {
      "cell_type": "code",
      "source": [
        "model.most_similar(\"hair\")"
      ],
      "metadata": {
        "colab": {
          "base_uri": "https://localhost:8080/"
        },
        "id": "xwhNrbe8UUsA",
        "outputId": "91c3ed52-4beb-41f7-c95e-2770a3e3edcb"
      },
      "execution_count": 5,
      "outputs": [
        {
          "output_type": "execute_result",
          "data": {
            "text/plain": [
              "[('blond', 0.7432324290275574),\n",
              " ('skin', 0.7390470504760742),\n",
              " ('beard', 0.7235628962516785),\n",
              " ('eyes', 0.7033714056015015),\n",
              " ('dyed', 0.6910348534584045),\n",
              " ('wig', 0.6649094223976135),\n",
              " ('cropped', 0.6585507988929749),\n",
              " ('wear', 0.6490640640258789),\n",
              " ('ponytail', 0.6490368843078613),\n",
              " ('coat', 0.6477528810501099)]"
            ]
          },
          "metadata": {},
          "execution_count": 5
        }
      ]
    },
    {
      "cell_type": "code",
      "source": [
        "def getTop5(word, n=5):\n",
        "    '''\n",
        "    get the most similar n words\n",
        "    '''\n",
        "    words = model.most_similar(word, topn=n)\n",
        "    return words\n",
        "\n"
      ],
      "metadata": {
        "id": "gxVV23CXX0a8"
      },
      "execution_count": 6,
      "outputs": []
    },
    {
      "cell_type": "code",
      "source": [
        "getTop5('look')"
      ],
      "metadata": {
        "colab": {
          "base_uri": "https://localhost:8080/"
        },
        "id": "ZL3OPAgdawU6",
        "outputId": "39960696-5522-4167-fece-bb0c3fd709cc"
      },
      "execution_count": 7,
      "outputs": [
        {
          "output_type": "execute_result",
          "data": {
            "text/plain": [
              "[('looking', 0.900027871131897),\n",
              " ('see', 0.8475160002708435),\n",
              " ('looks', 0.8472080230712891),\n",
              " ('come', 0.8388888835906982),\n",
              " ('you', 0.8238661885261536)]"
            ]
          },
          "metadata": {},
          "execution_count": 7
        }
      ]
    },
    {
      "cell_type": "code",
      "source": [
        "def getAvg(*args, n=10):\n",
        "    '''\n",
        "    get the most similar n words to a set of words\n",
        "    '''\n",
        "    words =np.array([model[word] for word in args])\n",
        "    avg = words.mean(axis=0)\n",
        "\n",
        "    pred = model.similar_by_vector(avg, topn=n)\n",
        "    return pred\n"
      ],
      "metadata": {
        "id": "jUiKzlfrYd88"
      },
      "execution_count": 8,
      "outputs": []
    },
    {
      "cell_type": "code",
      "source": [
        "getAvg('dog', 'cat', 'boy')"
      ],
      "metadata": {
        "colab": {
          "base_uri": "https://localhost:8080/"
        },
        "id": "hDGfoTF_ZhVt",
        "outputId": "3e03811f-6128-4412-a4b4-1b31fb3cb3bb"
      },
      "execution_count": 9,
      "outputs": [
        {
          "output_type": "execute_result",
          "data": {
            "text/plain": [
              "[('dog', 0.9381048083305359),\n",
              " ('cat', 0.9227592349052429),\n",
              " ('boy', 0.8449109196662903),\n",
              " ('girl', 0.7660219073295593),\n",
              " ('dogs', 0.7549165487289429),\n",
              " ('baby', 0.7248010039329529),\n",
              " ('puppy', 0.7144549489021301),\n",
              " ('pet', 0.7124754786491394),\n",
              " ('kid', 0.7083848118782043),\n",
              " ('man', 0.697179913520813)]"
            ]
          },
          "metadata": {},
          "execution_count": 9
        }
      ]
    },
    {
      "cell_type": "code",
      "source": [],
      "metadata": {
        "id": "HGxrDi9lXSdo"
      },
      "execution_count": null,
      "outputs": []
    }
  ]
}