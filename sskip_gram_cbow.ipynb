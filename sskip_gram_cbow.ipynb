{
  "nbformat": 4,
  "nbformat_minor": 0,
  "metadata": {
    "colab": {
      "provenance": []
    },
    "kernelspec": {
      "name": "python3",
      "display_name": "Python 3"
    },
    "language_info": {
      "name": "python"
    }
  },
  "cells": [
    {
      "cell_type": "code",
      "source": [
        "!pip install gensim\n"
      ],
      "metadata": {
        "colab": {
          "base_uri": "https://localhost:8080/"
        },
        "id": "Q3kjLzrxTK7y",
        "outputId": "fcbacb2d-25eb-4504-edcf-98ddad19f80c"
      },
      "execution_count": 2,
      "outputs": [
        {
          "output_type": "stream",
          "name": "stdout",
          "text": [
            "Requirement already satisfied: gensim in /usr/local/lib/python3.11/dist-packages (4.3.3)\n",
            "Requirement already satisfied: numpy<2.0,>=1.18.5 in /usr/local/lib/python3.11/dist-packages (from gensim) (1.26.4)\n",
            "Requirement already satisfied: scipy<1.14.0,>=1.7.0 in /usr/local/lib/python3.11/dist-packages (from gensim) (1.13.1)\n",
            "Requirement already satisfied: smart-open>=1.8.1 in /usr/local/lib/python3.11/dist-packages (from gensim) (7.1.0)\n",
            "Requirement already satisfied: wrapt in /usr/local/lib/python3.11/dist-packages (from smart-open>=1.8.1->gensim) (1.17.2)\n"
          ]
        }
      ]
    },
    {
      "cell_type": "code",
      "execution_count": 21,
      "metadata": {
        "id": "CfF_tYFlRFfQ"
      },
      "outputs": [],
      "source": [
        "from gensim.models import KeyedVectors\n",
        "import gensim.downloader as api\n",
        "import numpy as np"
      ]
    },
    {
      "cell_type": "code",
      "source": [
        "print(api.info()['models'].keys())"
      ],
      "metadata": {
        "colab": {
          "base_uri": "https://localhost:8080/"
        },
        "id": "bQPihJFmXUAG",
        "outputId": "72c77dd5-f46b-43c4-90b2-470a799c65e3"
      },
      "execution_count": 13,
      "outputs": [
        {
          "output_type": "stream",
          "name": "stdout",
          "text": [
            "dict_keys(['fasttext-wiki-news-subwords-300', 'conceptnet-numberbatch-17-06-300', 'word2vec-ruscorpora-300', 'word2vec-google-news-300', 'glove-wiki-gigaword-50', 'glove-wiki-gigaword-100', 'glove-wiki-gigaword-200', 'glove-wiki-gigaword-300', 'glove-twitter-25', 'glove-twitter-50', 'glove-twitter-100', 'glove-twitter-200', '__testing_word2vec-matrix-synopsis'])\n"
          ]
        }
      ]
    },
    {
      "cell_type": "code",
      "source": [
        "model = api.load('glove-wiki-gigaword-100')"
      ],
      "metadata": {
        "colab": {
          "base_uri": "https://localhost:8080/"
        },
        "collapsed": true,
        "id": "C8e2_xPxTKAA",
        "outputId": "e0ad6586-0b87-4658-b27c-678ddc4e7ff6"
      },
      "execution_count": 7,
      "outputs": [
        {
          "output_type": "stream",
          "name": "stdout",
          "text": [
            "[==================================================] 100.0% 128.1/128.1MB downloaded\n"
          ]
        },
        {
          "output_type": "execute_result",
          "data": {
            "text/plain": [
              "[('dog', 0.8798074722290039),\n",
              " ('rabbit', 0.7424427270889282),\n",
              " ('cats', 0.732300341129303),\n",
              " ('monkey', 0.7288709878921509),\n",
              " ('pet', 0.719014048576355),\n",
              " ('dogs', 0.7163872718811035),\n",
              " ('mouse', 0.6915250420570374),\n",
              " ('puppy', 0.6800068020820618),\n",
              " ('rat', 0.6641027331352234),\n",
              " ('spider', 0.6501135230064392)]"
            ]
          },
          "metadata": {},
          "execution_count": 7
        }
      ]
    },
    {
      "cell_type": "code",
      "source": [
        "model.most_similar(\"hair\")"
      ],
      "metadata": {
        "colab": {
          "base_uri": "https://localhost:8080/"
        },
        "id": "xwhNrbe8UUsA",
        "outputId": "20e3ac5f-c191-4ba6-de3d-6b2681e64ecb"
      },
      "execution_count": 14,
      "outputs": [
        {
          "output_type": "execute_result",
          "data": {
            "text/plain": [
              "[('blond', 0.7432324290275574),\n",
              " ('skin', 0.7390470504760742),\n",
              " ('beard', 0.7235628962516785),\n",
              " ('eyes', 0.7033714056015015),\n",
              " ('dyed', 0.6910348534584045),\n",
              " ('wig', 0.6649094223976135),\n",
              " ('cropped', 0.6585507988929749),\n",
              " ('wear', 0.6490640640258789),\n",
              " ('ponytail', 0.6490368843078613),\n",
              " ('coat', 0.6477528810501099)]"
            ]
          },
          "metadata": {},
          "execution_count": 14
        }
      ]
    },
    {
      "cell_type": "code",
      "source": [
        "def getTop5(word):\n",
        "    '''\n",
        "    get the most similar word\n",
        "    '''\n",
        "    words = model.most_similar(word)\n",
        "    return words[:5]\n",
        "\n"
      ],
      "metadata": {
        "id": "gxVV23CXX0a8"
      },
      "execution_count": 19,
      "outputs": []
    },
    {
      "cell_type": "code",
      "source": [
        "getTop5('look')"
      ],
      "metadata": {
        "colab": {
          "base_uri": "https://localhost:8080/"
        },
        "id": "ZL3OPAgdawU6",
        "outputId": "72a3a699-df9c-4c2b-8b5c-86f070f709b5"
      },
      "execution_count": 32,
      "outputs": [
        {
          "output_type": "execute_result",
          "data": {
            "text/plain": [
              "[('looking', 0.900027871131897),\n",
              " ('see', 0.8475160002708435),\n",
              " ('looks', 0.8472080230712891),\n",
              " ('come', 0.8388888835906982),\n",
              " ('you', 0.8238661885261536)]"
            ]
          },
          "metadata": {},
          "execution_count": 32
        }
      ]
    },
    {
      "cell_type": "code",
      "source": [
        "def getAvg(*args):\n",
        "    '''\n",
        "    get the most similar words to a uven set of words\n",
        "    '''\n",
        "    words =np.array([model[word] for word in args])\n",
        "    avg = words.mean(axis=0)\n",
        "\n",
        "    pred = model.similar_by_vector(avg)\n",
        "    return pred\n"
      ],
      "metadata": {
        "id": "jUiKzlfrYd88"
      },
      "execution_count": 29,
      "outputs": []
    },
    {
      "cell_type": "code",
      "source": [
        "getAvg('dog', 'cat', 'boy')"
      ],
      "metadata": {
        "colab": {
          "base_uri": "https://localhost:8080/"
        },
        "id": "hDGfoTF_ZhVt",
        "outputId": "1e3afda0-b28c-443e-814b-f267465df2ad"
      },
      "execution_count": 39,
      "outputs": [
        {
          "output_type": "execute_result",
          "data": {
            "text/plain": [
              "[('dog', 0.9381048083305359),\n",
              " ('cat', 0.9227592349052429),\n",
              " ('boy', 0.8449109196662903),\n",
              " ('girl', 0.7660219073295593),\n",
              " ('dogs', 0.7549165487289429),\n",
              " ('baby', 0.7248010039329529),\n",
              " ('puppy', 0.7144549489021301),\n",
              " ('pet', 0.7124754786491394),\n",
              " ('kid', 0.7083848118782043),\n",
              " ('man', 0.697179913520813)]"
            ]
          },
          "metadata": {},
          "execution_count": 39
        }
      ]
    },
    {
      "cell_type": "code",
      "source": [],
      "metadata": {
        "id": "HGxrDi9lXSdo"
      },
      "execution_count": null,
      "outputs": []
    }
  ]
}